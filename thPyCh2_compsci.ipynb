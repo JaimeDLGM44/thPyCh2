{
 "cells": [
  {
   "cell_type": "markdown",
   "metadata": {},
   "source": [
    "### Chapter 2 - Variables, Expressions, and Statements"
   ]
  },
  {
   "cell_type": "code",
   "execution_count": 1,
   "metadata": {},
   "outputs": [
    {
     "name": "stdout",
     "output_type": "stream",
     "text": [
      "5\n"
     ]
    }
   ],
   "source": [
    "#Assignment Statements\n",
    "#eg. \"x gets 5\"\n",
    "x = 5 # this is assignment.  It stores a value in a variable.\n",
    "print(x)"
   ]
  },
  {
   "cell_type": "markdown",
   "metadata": {},
   "source": [
    "This instructs the computer to store or record a data value in a place in computer memory.\n",
    "What is memory?   _______\n",
    "- RAM - random access memory \n",
    " - stores on/off (or charged/not charged) - 2 states - binary until changed, or computer power is off (volatile) (fast)  \n",
    "-Hard Drive/Disk - also stores 0/1 - (persistent) (slow)\n",
    "to do: discuss binary/decimal numbers\n",
    "___\n",
    "One way we can visualize what is stored where is by drawing a state diagram, with each variable pointing with an arrow to its value.  \n",
    "x --> 5 \n",
    "\n",
    "Also, Python is not one of those programs where if you set a varable equall to something, it is tht value or string forever, but you can overwrite it if you re-state what the variable ois set to later on on the same program\n",
    "____"
   ]
  },
  {
   "cell_type": "code",
   "execution_count": 2,
   "metadata": {},
   "outputs": [
    {
     "name": "stdout",
     "output_type": "stream",
     "text": [
      "5\n",
      "3\n"
     ]
    }
   ],
   "source": [
    "x = 5\n",
    "print(x)\n",
    "\n",
    "x = 3\n",
    "print(x)"
   ]
  },
  {
   "cell_type": "markdown",
   "metadata": {},
   "source": [
    "Variable Names  \n",
    "Variable names should be descriptive and meaningful, without being too long/cumbersome (although they can be as long as you like).  They should document what the variable is used for. They can contain letters and numbers, but can't begin with a number.  You can use upper and lowercase letters, though one convention is to only use lowercase.  \n",
    "The underscore can appear in variable names and is used in place of a space.  \n",
    "E.g. my_variable = 3"
   ]
  },
  {
   "cell_type": "code",
   "execution_count": 3,
   "metadata": {},
   "outputs": [],
   "source": [
    "my_variable = 3  #this use of _ is called \"snake case\"\n",
    "#which is contrasted with \"camel case\"\n",
    "myVariable = 3  #Python typically uses snake case\n",
    "\n",
    "time_until_the_end_of_class = 28\n",
    "TimeUntilTheEndOfClass = time_until_the_end_of_class\n",
    "time_until_the_end_of_class = time_until_the_end_of_class - 2"
   ]
  },
  {
   "cell_type": "code",
   "execution_count": 6,
   "metadata": {},
   "outputs": [
    {
     "ename": "SyntaxError",
     "evalue": "invalid syntax (4077505018.py, line 14)",
     "output_type": "error",
     "traceback": [
      "\u001b[0;36m  File \u001b[0;32m\"/var/folders/jn/3sv3k8d13q1_4rx4q55j249r0000gp/T/ipykernel_5100/4077505018.py\"\u001b[0;36m, line \u001b[0;32m14\u001b[0m\n\u001b[0;31m    100 + 0*time_to_fall + 1/2 a*time_to_fall**(1/2)\u001b[0m\n\u001b[0m                               ^\u001b[0m\n\u001b[0;31mSyntaxError\u001b[0m\u001b[0;31m:\u001b[0m invalid syntax\n"
     ]
    }
   ],
   "source": [
    "#5q = 4 #this will cause an error\n",
    "#experiment with other variable names that might give errors!\n",
    "#√x = 3\n",
    "#!myvar = 3\n",
    "#@var = 3\n",
    "#&var = 1\n",
    "CONSTANT_VAL_FOR_EARTH_GRAVITY = -9.8 # more on constants later\n",
    "start_height = 100\n",
    "# y = y0 + v0 * t + 1/2 a * t^2 THIS EQUATION\n",
    "time_to_fall = (-start_height*2/CONSTANT_VAL_FOR_EARTH_GRAVITY)**(1/2)\n",
    "print(time_to_fall,\"seconds\")\n",
    "\n",
    "#Prove time using THIS EQUATION\n",
    "100 + 0*time_to_fall + 1/2 a*time_to_fall**(1/2)"
   ]
  },
  {
   "cell_type": "markdown",
   "metadata": {},
   "source": [
    "Reserved Keywords\n",
    "Python has some keywords that are illegal to use as variable names, because they are reserved for other purposes.  \n",
    "- False      class      finally    is         return\n",
    "- None       continue   for        lambda     try\n",
    "- True       def        from       nonlocal   while\n",
    "- and        del        global     not        with\n",
    "- as         elif       if         or         yield\n",
    "- assert     else       import     pass\n",
    "- break      except     in         raise"
   ]
  },
  {
   "cell_type": "code",
   "execution_count": 8,
   "metadata": {},
   "outputs": [
    {
     "name": "stdout",
     "output_type": "stream",
     "text": [
      "2\n"
     ]
    },
    {
     "ename": "TypeError",
     "evalue": "'int' object is not callable",
     "output_type": "error",
     "traceback": [
      "\u001b[0;31m---------------------------------------------------------------------------\u001b[0m",
      "\u001b[0;31mTypeError\u001b[0m                                 Traceback (most recent call last)",
      "\u001b[0;32m/var/folders/jn/3sv3k8d13q1_4rx4q55j249r0000gp/T/ipykernel_5100/2785862105.py\u001b[0m in \u001b[0;36m<module>\u001b[0;34m\u001b[0m\n\u001b[1;32m      1\u001b[0m \u001b[0mstr\u001b[0m \u001b[0;34m=\u001b[0m \u001b[0;36m2\u001b[0m\u001b[0;34m\u001b[0m\u001b[0;34m\u001b[0m\u001b[0m\n\u001b[1;32m      2\u001b[0m \u001b[0mprint\u001b[0m\u001b[0;34m(\u001b[0m\u001b[0mstr\u001b[0m\u001b[0;34m)\u001b[0m\u001b[0;34m\u001b[0m\u001b[0;34m\u001b[0m\u001b[0m\n\u001b[0;32m----> 3\u001b[0;31m \u001b[0mprint\u001b[0m\u001b[0;34m(\u001b[0m\u001b[0mstr\u001b[0m\u001b[0;34m(\u001b[0m\u001b[0;36m3\u001b[0m\u001b[0;34m)\u001b[0m\u001b[0;34m)\u001b[0m \u001b[0;31m#type error\u001b[0m\u001b[0;34m\u001b[0m\u001b[0;34m\u001b[0m\u001b[0m\n\u001b[0m\u001b[1;32m      4\u001b[0m \u001b[0mint\u001b[0m \u001b[0;34m=\u001b[0m \u001b[0;34m\"hello\"\u001b[0m\u001b[0;34m\u001b[0m\u001b[0;34m\u001b[0m\u001b[0m\n\u001b[1;32m      5\u001b[0m \u001b[0mint\u001b[0m\u001b[0;34m(\u001b[0m\u001b[0;34m\"3\"\u001b[0m\u001b[0;34m)\u001b[0m\u001b[0;34m\u001b[0m\u001b[0;34m\u001b[0m\u001b[0m\n",
      "\u001b[0;31mTypeError\u001b[0m: 'int' object is not callable"
     ]
    }
   ],
   "source": [
    "str = 2\n",
    "print(str)\n",
    "print(str(3)) #type error because variable \"str\" represents something, no longer signifies a string\n",
    "int = \"hello\"\n",
    "int(\"3\")"
   ]
  },
  {
   "cell_type": "markdown",
   "metadata": {},
   "source": [
    "____\n",
    "Expressions"
   ]
  },
  {
   "cell_type": "code",
   "execution_count": 6,
   "metadata": {},
   "outputs": [
    {
     "data": {
      "text/plain": [
       "42"
      ]
     },
     "execution_count": 6,
     "metadata": {},
     "output_type": "execute_result"
    }
   ],
   "source": [
    "#An expression is a combination of values, variables and operators, much like in math.\n",
    "42"
   ]
  },
  {
   "cell_type": "code",
   "execution_count": 11,
   "metadata": {},
   "outputs": [
    {
     "data": {
      "text/plain": [
       "'nsjknvljsdbvjbdslvljscjs sdcsdj cjsakncjknj sacjknjk nsdckjnas cksdlnc'"
      ]
     },
     "execution_count": 11,
     "metadata": {},
     "output_type": "execute_result"
    }
   ],
   "source": [
    "# for a very long line, use parenthesis\n",
    "my_long_string = (\"nsjknvljsdbvjbdslvljscjs sdcsdj cjsakncjknj sacjknjk nsdckjnas cksdlnc\")\n",
    "my_long_string"
   ]
  },
  {
   "cell_type": "code",
   "execution_count": 7,
   "metadata": {},
   "outputs": [
    {
     "data": {
      "text/plain": [
       "42"
      ]
     },
     "execution_count": 7,
     "metadata": {},
     "output_type": "execute_result"
    }
   ],
   "source": [
    "6*7"
   ]
  },
  {
   "cell_type": "code",
   "execution_count": 8,
   "metadata": {},
   "outputs": [
    {
     "data": {
      "text/plain": [
       "42"
      ]
     },
     "execution_count": 8,
     "metadata": {},
     "output_type": "execute_result"
    }
   ],
   "source": [
    "x+37"
   ]
  },
  {
   "cell_type": "code",
   "execution_count": 9,
   "metadata": {},
   "outputs": [
    {
     "name": "stdout",
     "output_type": "stream",
     "text": [
      "12\n"
     ]
    }
   ],
   "source": [
    "#a statement is a unit of code that has an effect, like creating a variable or displaying something\n",
    "y = 12\n",
    "print(y)"
   ]
  },
  {
   "cell_type": "code",
   "execution_count": 15,
   "metadata": {},
   "outputs": [],
   "source": [
    "import testing_script #in jupyter notebook, it imported the information contained in Ch2 from file"
   ]
  },
  {
   "cell_type": "code",
   "execution_count": 10,
   "metadata": {},
   "outputs": [],
   "source": [
    "#experiment with some expressions and statements\n"
   ]
  },
  {
   "cell_type": "markdown",
   "metadata": {},
   "source": [
    "____\n",
    "Script/interactive mode"
   ]
  },
  {
   "cell_type": "markdown",
   "metadata": {},
   "source": [
    "-Python can work in interactive mode or script mode.  \n",
    "-Jupyter behaves a bit like a hybrid of the two."
   ]
  },
  {
   "cell_type": "code",
   "execution_count": 1,
   "metadata": {},
   "outputs": [
    {
     "name": "stdout",
     "output_type": "stream",
     "text": [
      "This is my testing script\n",
      "4 + 1 equalls 5\n"
     ]
    }
   ],
   "source": [
    "import testing_script\n",
    "my_local_var = testing_script.my_test_variable #after period, it's specifying variable inside file"
   ]
  },
  {
   "cell_type": "code",
   "execution_count": 2,
   "metadata": {},
   "outputs": [
    {
     "data": {
      "text/plain": [
       "77"
      ]
     },
     "execution_count": 2,
     "metadata": {},
     "output_type": "execute_result"
    }
   ],
   "source": [
    "from testing_script import my_test_variable #different way to import a specific variable inside a file\n",
    "my_test_variable"
   ]
  },
  {
   "cell_type": "code",
   "execution_count": 12,
   "metadata": {},
   "outputs": [
    {
     "name": "stdout",
     "output_type": "stream",
     "text": [
      "this is an awesome script\n",
      "It does several things\n",
      "6\n"
     ]
    }
   ],
   "source": [
    "import practice_script3"
   ]
  },
  {
   "cell_type": "markdown",
   "metadata": {},
   "source": [
    "String operations\n"
   ]
  },
  {
   "cell_type": "code",
   "execution_count": 13,
   "metadata": {},
   "outputs": [
    {
     "data": {
      "text/plain": [
       "'hello world'"
      ]
     },
     "execution_count": 13,
     "metadata": {},
     "output_type": "execute_result"
    }
   ],
   "source": [
    "#you can \"add\" or concatenate strings, or \"multiply\" or repeat strings\n",
    "\"hello\"+ \" \" + \"world\"\n"
   ]
  },
  {
   "cell_type": "code",
   "execution_count": 7,
   "metadata": {},
   "outputs": [
    {
     "data": {
      "text/plain": [
       "'Hello Hello Hello Hello Hello '"
      ]
     },
     "execution_count": 7,
     "metadata": {},
     "output_type": "execute_result"
    }
   ],
   "source": [
    "\"hello \" * 5 \n",
    "#or"
   ]
  },
  {
   "cell_type": "code",
   "execution_count": 8,
   "metadata": {},
   "outputs": [
    {
     "data": {
      "text/plain": [
       "'Hello Hello Hello Hello Hello Hello Hello Hello '"
      ]
     },
     "execution_count": 8,
     "metadata": {},
     "output_type": "execute_result"
    }
   ],
   "source": [
    "(\"Hello\"+ \" \") *8"
   ]
  },
  {
   "cell_type": "markdown",
   "metadata": {},
   "source": [
    "Comments"
   ]
  },
  {
   "cell_type": "code",
   "execution_count": 15,
   "metadata": {},
   "outputs": [
    {
     "data": {
      "text/plain": [
       "'\\nYou can, however, make block comments in some environments by using three apostrophes! \\nThis occasionally can cause some errors, though, so be alert!\\n'"
      ]
     },
     "execution_count": 15,
     "metadata": {},
     "output_type": "execute_result"
    }
   ],
   "source": [
    "#code in python can be \"commented\" by beginning the comment with a #\n",
    "#however, the comment status only lasts until the end of the line\n",
    "'''\n",
    "You can, however, make block comments in some environments by using three apostrophes! \n",
    "This occasionally can cause some errors, though, so be alert!\n",
    "'''\n",
    "#for example, jupyter doesn't really properly handle block comments"
   ]
  },
  {
   "cell_type": "markdown",
   "metadata": {},
   "source": [
    "### Exercises"
   ]
  },
  {
   "cell_type": "markdown",
   "metadata": {},
   "source": [
    "Exercise 1  \n",
    "Repeating my advice from the previous chapter, whenever you learn a new feature, you should try it out in interactive mode and make errors on purpose to see what goes wrong.\n",
    "We’ve seen that n = 42 is legal. What about 42 = n?\n",
    "How about x = y = 1?\n",
    "In some languages every statement ends with a semi-colon, ;. What happens if you put a semi-colon at the end of a Python statement?\n",
    "What if you put a period at the end of a statement?\n",
    "In math notation you can multiply x and y like this: x y. What happens if you try that in Python?\n"
   ]
  },
  {
   "cell_type": "code",
   "execution_count": 10,
   "metadata": {},
   "outputs": [
    {
     "ename": "SyntaxError",
     "evalue": "cannot assign to literal (2774824488.py, line 2)",
     "output_type": "error",
     "traceback": [
      "\u001b[0;36m  File \u001b[0;32m\"/var/folders/jn/3sv3k8d13q1_4rx4q55j249r0000gp/T/ipykernel_10432/2774824488.py\"\u001b[0;36m, line \u001b[0;32m2\u001b[0m\n\u001b[0;31m    42 = n #1 didn't work\u001b[0m\n\u001b[0m    ^\u001b[0m\n\u001b[0;31mSyntaxError\u001b[0m\u001b[0;31m:\u001b[0m cannot assign to literal\n"
     ]
    }
   ],
   "source": [
    "n = 42\n",
    "42 = n #1 didn't work"
   ]
  },
  {
   "cell_type": "code",
   "execution_count": 12,
   "metadata": {},
   "outputs": [
    {
     "name": "stdout",
     "output_type": "stream",
     "text": [
      "1\n",
      "1\n"
     ]
    }
   ],
   "source": [
    "x = y = 1\n",
    "print(x)\n",
    "print(y) #2 yes it works"
   ]
  },
  {
   "cell_type": "code",
   "execution_count": 13,
   "metadata": {},
   "outputs": [
    {
     "name": "stdout",
     "output_type": "stream",
     "text": [
      "42\n"
     ]
    }
   ],
   "source": [
    "print(int(42)); #3 it works"
   ]
  },
  {
   "cell_type": "code",
   "execution_count": 14,
   "metadata": {},
   "outputs": [
    {
     "ename": "SyntaxError",
     "evalue": "invalid syntax (1761561409.py, line 1)",
     "output_type": "error",
     "traceback": [
      "\u001b[0;36m  File \u001b[0;32m\"/var/folders/jn/3sv3k8d13q1_4rx4q55j249r0000gp/T/ipykernel_10432/1761561409.py\"\u001b[0;36m, line \u001b[0;32m1\u001b[0m\n\u001b[0;31m    print(int(42)).\u001b[0m\n\u001b[0m                   ^\u001b[0m\n\u001b[0;31mSyntaxError\u001b[0m\u001b[0;31m:\u001b[0m invalid syntax\n"
     ]
    }
   ],
   "source": [
    "print(int(42)). #4 invalid syntax"
   ]
  },
  {
   "cell_type": "code",
   "execution_count": 17,
   "metadata": {},
   "outputs": [
    {
     "ename": "NameError",
     "evalue": "name 'xy' is not defined",
     "output_type": "error",
     "traceback": [
      "\u001b[0;31m---------------------------------------------------------------------------\u001b[0m",
      "\u001b[0;31mNameError\u001b[0m                                 Traceback (most recent call last)",
      "\u001b[0;32m/var/folders/jn/3sv3k8d13q1_4rx4q55j249r0000gp/T/ipykernel_10432/2440520432.py\u001b[0m in \u001b[0;36m<module>\u001b[0;34m\u001b[0m\n\u001b[1;32m      1\u001b[0m \u001b[0mx\u001b[0m \u001b[0;34m=\u001b[0m \u001b[0;36m3\u001b[0m\u001b[0;34m\u001b[0m\u001b[0;34m\u001b[0m\u001b[0m\n\u001b[1;32m      2\u001b[0m \u001b[0my\u001b[0m \u001b[0;34m=\u001b[0m \u001b[0;36m4\u001b[0m\u001b[0;34m\u001b[0m\u001b[0;34m\u001b[0m\u001b[0m\n\u001b[0;32m----> 3\u001b[0;31m \u001b[0mxy\u001b[0m  \u001b[0;31m#no, it doesn't work since it's trying to find variable xy, not multyplying whats already defined\u001b[0m\u001b[0;34m\u001b[0m\u001b[0;34m\u001b[0m\u001b[0m\n\u001b[0m",
      "\u001b[0;31mNameError\u001b[0m: name 'xy' is not defined"
     ]
    }
   ],
   "source": [
    "x = 3\n",
    "y = 4\n",
    "xy  #no, it doesn't work since it's trying to find variable xy, not multyplying whats already defined"
   ]
  },
  {
   "cell_type": "markdown",
   "metadata": {},
   "source": [
    "Exercise 2  \n",
    "Practice using the Python interpreter as a calculator:\n",
    "The volume of a sphere with radius r is 4/3 π r3. What is the volume of a sphere with radius 5?\n",
    "Suppose the cover price of a book is  24.95 but bookstores get a 40 percent discount. Shipping costs $3 for the first copy and 75 cents for each additional copy. What is the total wholesale cost for 60 copies?\n",
    "If I leave my house at 6:52 am and run 1 mile at an easy pace (8:15 per mile), then 3 miles at tempo (7:12 per mile) and 1 mile at easy pace again, what time do I get home for breakfast?"
   ]
  },
  {
   "cell_type": "code",
   "execution_count": 21,
   "metadata": {},
   "outputs": [
    {
     "name": "stdout",
     "output_type": "stream",
     "text": [
      "523.5987755982989\n"
     ]
    }
   ],
   "source": [
    "import math\n",
    "r = 5\n",
    "\n",
    "A = ((4/3) * math.pi * r**3)\n",
    "print(A)"
   ]
  },
  {
   "cell_type": "code",
   "execution_count": 27,
   "metadata": {},
   "outputs": [
    {
     "name": "stdout",
     "output_type": "stream",
     "text": [
      "945.4499999999999\n"
     ]
    }
   ],
   "source": [
    "b = 60 #in python, definition has to be set before actually using it\n",
    "price = ((24.95 * 0.6)*b)\n",
    "shipping = (3 + 0.75*(b-1)) #x being number of books and b-1 because it's 3 for first copy, just .75 for 59 copies\n",
    "print(price + shipping)"
   ]
  },
  {
   "cell_type": "code",
   "execution_count": 2,
   "metadata": {},
   "outputs": [
    {
     "data": {
      "text/plain": [
       "7.501666666666667"
      ]
     },
     "execution_count": 2,
     "metadata": {},
     "output_type": "execute_result"
    }
   ],
   "source": [
    "slow_pace=8+15/60 #minutes\n",
    "tempo=7+12/60 #minutes\n",
    "start_time=6+52/60 #minutes\n",
    "total_time=(tempo*3)+(slow_pace*2)\n",
    "finish_time=start_time+total_time/60 #divide by 60 to convert from minutes to hours\n",
    "finish_time"
   ]
  },
  {
   "cell_type": "markdown",
   "metadata": {},
   "source": [
    "# User input!"
   ]
  },
  {
   "cell_type": "code",
   "execution_count": 16,
   "metadata": {},
   "outputs": [
    {
     "name": "stdout",
     "output_type": "stream",
     "text": [
      "Say hello to this great computer! hello\n"
     ]
    }
   ],
   "source": [
    "my_keyboard_input = input(\"Say hello to this great computer! \")"
   ]
  },
  {
   "cell_type": "code",
   "execution_count": 3,
   "metadata": {},
   "outputs": [
    {
     "name": "stdout",
     "output_type": "stream",
     "text": [
      "Here's my text\n"
     ]
    }
   ],
   "source": [
    "x = input() #input set to variable"
   ]
  },
  {
   "cell_type": "code",
   "execution_count": 4,
   "metadata": {},
   "outputs": [
    {
     "data": {
      "text/plain": [
       "\"Here's my text\""
      ]
     },
     "execution_count": 4,
     "metadata": {},
     "output_type": "execute_result"
    }
   ],
   "source": [
    "x #variable represents input"
   ]
  },
  {
   "cell_type": "code",
   "execution_count": 5,
   "metadata": {},
   "outputs": [
    {
     "name": "stdout",
     "output_type": "stream",
     "text": [
      "type a number!7\n"
     ]
    }
   ],
   "source": [
    "my_in = input(\"type a number!\") #setting my input to \"type a number\" equall to 7 in variable my_in"
   ]
  },
  {
   "cell_type": "code",
   "execution_count": 6,
   "metadata": {},
   "outputs": [
    {
     "data": {
      "text/plain": [
       "'73'"
      ]
     },
     "execution_count": 6,
     "metadata": {},
     "output_type": "execute_result"
    }
   ],
   "source": [
    "my_in + \"3\" #result"
   ]
  },
  {
   "cell_type": "code",
   "execution_count": 8,
   "metadata": {},
   "outputs": [
    {
     "name": "stdout",
     "output_type": "stream",
     "text": [
      "type a thing jksdhjshf\n",
      "jksdhjshf\n"
     ]
    }
   ],
   "source": [
    "varl = input(\"type a thing \")\n",
    "print(varl)"
   ]
  },
  {
   "cell_type": "code",
   "execution_count": 17,
   "metadata": {},
   "outputs": [
    {
     "name": "stdout",
     "output_type": "stream",
     "text": [
      "hello\n"
     ]
    }
   ],
   "source": [
    "print(my_keyboard_input)"
   ]
  },
  {
   "cell_type": "code",
   "execution_count": 18,
   "metadata": {},
   "outputs": [
    {
     "name": "stdout",
     "output_type": "stream",
     "text": [
      "type a number! 5\n"
     ]
    }
   ],
   "source": [
    "my_in = input(\"type a number! \")"
   ]
  },
  {
   "cell_type": "code",
   "execution_count": 19,
   "metadata": {},
   "outputs": [
    {
     "data": {
      "text/plain": [
       "'53'"
      ]
     },
     "execution_count": 19,
     "metadata": {},
     "output_type": "execute_result"
    }
   ],
   "source": [
    "my_in + \"3\""
   ]
  },
  {
   "cell_type": "code",
   "execution_count": 20,
   "metadata": {},
   "outputs": [
    {
     "data": {
      "text/plain": [
       "8"
      ]
     },
     "execution_count": 20,
     "metadata": {},
     "output_type": "execute_result"
    }
   ],
   "source": [
    "3 + int(my_in)"
   ]
  },
  {
   "cell_type": "code",
   "execution_count": 21,
   "metadata": {},
   "outputs": [
    {
     "name": "stdout",
     "output_type": "stream",
     "text": [
      "type a thing a thing\n",
      "a thing\n"
     ]
    }
   ],
   "source": [
    "var1 = input(\"type a thing \")\n",
    "print(var1)"
   ]
  },
  {
   "cell_type": "code",
   "execution_count": 22,
   "metadata": {},
   "outputs": [],
   "source": [
    "#3 + int(my_keyboard_input)"
   ]
  },
  {
   "cell_type": "markdown",
   "metadata": {},
   "source": [
    "# Conditional Logic "
   ]
  },
  {
   "cell_type": "code",
   "execution_count": 2,
   "metadata": {},
   "outputs": [
    {
     "name": "stdout",
     "output_type": "stream",
     "text": [
      "Enter a one or two digit number 7\n"
     ]
    }
   ],
   "source": [
    "x = input(\"Enter a one or two digit number \")\n",
    "x_int = int(x)"
   ]
  },
  {
   "cell_type": "code",
   "execution_count": 3,
   "metadata": {},
   "outputs": [
    {
     "name": "stdout",
     "output_type": "stream",
     "text": [
      "Your number is positive\n",
      "Hooray!\n"
     ]
    }
   ],
   "source": [
    "if(x_int > 0): #basically if positive display, if not, move on \n",
    "    print(\"Your number is positive\")\n",
    "    print(\"Hooray!\")\n",
    "else: #if not positive, moves on to this\n",
    "    print(\"Your number is non-positive!\")\n",
    "    print(\"go team\")\n",
    "#if statement can go by itself, but if it doesn't meet requirements, program won't do anything"
   ]
  },
  {
   "cell_type": "code",
   "execution_count": 4,
   "metadata": {},
   "outputs": [
    {
     "name": "stdout",
     "output_type": "stream",
     "text": [
      "x is positive!\n"
     ]
    }
   ],
   "source": [
    "#Sequential conditionals\n",
    "if(x_int == 0): # if this is true, it skips everything below.\n",
    "    print(\"x is zero!\")\n",
    "elif(x_int > 0):\n",
    "    print(\"x is positive!\")\n",
    "else: #no condition, would do this option regardless of what you put in as value if nothing else was selected\n",
    "    print(\"x is negative!\")"
   ]
  },
  {
   "cell_type": "code",
   "execution_count": 5,
   "metadata": {},
   "outputs": [
    {
     "name": "stdout",
     "output_type": "stream",
     "text": [
      "x is positive!\n"
     ]
    }
   ],
   "source": [
    "#Let's do the same thing as above with if-elses\n",
    "if(x_int == 0): \n",
    "    print(\"x is zero!\")\n",
    "else:\n",
    "    if(x_int > 0): #instead of elif, this basicaly separates these two steps rather than computing them together\n",
    "        print(\"x is positive!\")\n",
    "    else: \n",
    "        print(\"x is negative!\")"
   ]
  },
  {
   "cell_type": "code",
   "execution_count": 19,
   "metadata": {},
   "outputs": [
    {
     "name": "stdout",
     "output_type": "stream",
     "text": [
      "enter a number: \n",
      "-150\n",
      "x is non positive\n",
      "x is larger in magnitude than big\n"
     ]
    }
   ],
   "source": [
    "#nested if/else\n",
    "#senario - want to classify pos/neg AND BIG or not-Big\n",
    "big = 100\n",
    "x = int(input('enter a number: \\n')) #remember \\n is skipping a line\n",
    "if x > 0:\n",
    "    #x must be positivs\n",
    "    if x >= big:\n",
    "        print('x is big')\n",
    "    else:\n",
    "        print('x is not big')\n",
    "else:\n",
    "    #x must be non positive\n",
    "    print('x is non positive')\n",
    "    if x <= -1*big: #here's my condition, could also be {abs(x) >= big} or {x <= -big}\n",
    "        print('x is larger in magnitude than big')\n",
    "    else:\n",
    "        print('x is smaller in magnitude')\n",
    "        #x is larger in magnitude than big=100"
   ]
  },
  {
   "cell_type": "code",
   "execution_count": 25,
   "metadata": {},
   "outputs": [
    {
     "name": "stdout",
     "output_type": "stream",
     "text": [
      "5\n",
      "4\n"
     ]
    }
   ],
   "source": [
    "#New function for strings - len() short for Length.  Finds the # of characters in a string.\n",
    "print(len('hello'))\n",
    "print(len(str(x)))"
   ]
  },
  {
   "cell_type": "code",
   "execution_count": 26,
   "metadata": {},
   "outputs": [
    {
     "name": "stdout",
     "output_type": "stream",
     "text": [
      "Enter a one or two digit number -12\n",
      "Your number is negative and has more than 1 digit.\n"
     ]
    }
   ],
   "source": [
    "#Nested conditionals\n",
    "#want to make a pos/neg/zero classifier along with a digit count\n",
    "#5 different outcomes! \n",
    "# 0, pos 1digit, pos 2 digit, neg 1 digit, neg 2 digit\n",
    "x = input(\"Enter a one or two digit number \")\n",
    "x_int = int(x)\n",
    "\n",
    "if(x_int == 0):\n",
    "    print(\"Your number is zero and has 1 digit.\")\n",
    "elif(x_int > 0):\n",
    "    #this number is POSITIVE\n",
    "    if(len(x) == 1): #using length to see digit numbers, in this case one's place\n",
    "        print(\"Your number is positive and has 1 digit.\")\n",
    "    else: #then it is in the tenth's place\n",
    "        print(\"Your number is positive and has more than 1 digit.\")\n",
    "else:\n",
    "    #this number is NEGATIVE\n",
    "    if(len(x) == 2): #using length to see digit numbers, in this case it's 2 digits including the negative sign\n",
    "        print(\"Your number is negative and has 1 digit.\")\n",
    "    else: #then it would be length of 3 digits, the negative sign and the tenth's digits\n",
    "        print(\"Your number is negative and has more than 1 digit.\")"
   ]
  },
  {
   "cell_type": "markdown",
   "metadata": {},
   "source": [
    "# Two new operators "
   ]
  },
  {
   "cell_type": "code",
   "execution_count": 41,
   "metadata": {},
   "outputs": [
    {
     "name": "stdout",
     "output_type": "stream",
     "text": [
      "1\n",
      "0\n",
      "1\n",
      "-1\n"
     ]
    }
   ],
   "source": [
    "#you know +,-,*,/, **\n",
    "#New operators:\n",
    "#Floor Division   // - divide then round DOWN (not just simple round) or throw away remainder\n",
    "print(3 // 3)\n",
    "print(1 // 2)\n",
    "print(4 // 3)\n",
    "print(- 1 // 3)"
   ]
  },
  {
   "cell_type": "code",
   "execution_count": 34,
   "metadata": {},
   "outputs": [
    {
     "name": "stdout",
     "output_type": "stream",
     "text": [
      "1\n",
      "1\n",
      "2\n",
      "Enter a number 1.5\n",
      "X is not even nor odd\n"
     ]
    }
   ],
   "source": [
    "# Modulus operator: % - does division and returns ONLY the remainder\n",
    "print(5 % 4) # 1 remainder 1\n",
    "print(7 % 2) # 3 remainder 1\n",
    "print(11 % 3) # 3 remainder 2 like 3*3 is equall to 9, so to get to 11, the remainder would be 2\n",
    "#This is very useful for checking whether or not a number is evenly divisible by another\n",
    "x = float(input(\"Enter a number \")) #don't use interger because decimal numbers are not even nor odd, use FLOAT\n",
    "if(x % 2 == 0): #if x is divisible by an even number, then it's even, if divisible by 1 but not 2, then odd\n",
    "    print(\"x is even\")\n",
    "elif(x % 2 == 1):\n",
    "    print('x is odd')\n",
    "else:\n",
    "    print(\"X is not even nor odd\")"
   ]
  },
  {
   "cell_type": "code",
   "execution_count": null,
   "metadata": {},
   "outputs": [],
   "source": []
  },
  {
   "cell_type": "code",
   "execution_count": null,
   "metadata": {},
   "outputs": [],
   "source": []
  }
 ],
 "metadata": {
  "kernelspec": {
   "display_name": "Python 3 (ipykernel)",
   "language": "python",
   "name": "python3"
  },
  "language_info": {
   "codemirror_mode": {
    "name": "ipython",
    "version": 3
   },
   "file_extension": ".py",
   "mimetype": "text/x-python",
   "name": "python",
   "nbconvert_exporter": "python",
   "pygments_lexer": "ipython3",
   "version": "3.9.7"
  }
 },
 "nbformat": 4,
 "nbformat_minor": 4
}
